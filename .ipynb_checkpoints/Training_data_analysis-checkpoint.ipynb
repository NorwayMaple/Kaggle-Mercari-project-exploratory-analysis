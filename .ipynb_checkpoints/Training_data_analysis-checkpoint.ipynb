{
 "cells": [
  {
   "cell_type": "code",
   "execution_count": 2,
   "metadata": {
    "collapsed": false
   },
   "outputs": [
    {
     "name": "stdout",
     "output_type": "stream",
     "text": [
      "0.22.0\n"
     ]
    }
   ],
   "source": [
    "import pandas as pd\n",
    "import numpy as np\n",
    "import matplotlib.pyplot as plt\n",
    "from pandas.api.types import CategoricalDtype\n",
    "\n",
    "print(pd.__version__)\n",
    "\n",
    "%matplotlib inline"
   ]
  },
  {
   "cell_type": "code",
   "execution_count": 17,
   "metadata": {
    "collapsed": false
   },
   "outputs": [
    {
     "name": "stderr",
     "output_type": "stream",
     "text": [
      "/Users/Abe/anaconda3/lib/python3.6/site-packages/numpy/lib/arraysetops.py:466: FutureWarning: elementwise comparison failed; returning scalar instead, but in the future will perform elementwise comparison\n",
      "  mask |= (ar1 == a)\n"
     ]
    }
   ],
   "source": [
    "train_df = pd.read_table(\"./train.tsv\", index_col = 'train_id', dtype = {'item_condition_id':CategoricalDtype(categories = [str(i) for i in range(1,6)], ordered = True), 'category_name':'category', 'brand_name': 'category', 'shipping':'category'})"
   ]
  },
  {
   "cell_type": "code",
   "execution_count": 18,
   "metadata": {
    "collapsed": false
   },
   "outputs": [],
   "source": [
    "a, b, c, d = train_df['category_name'].str.split(\"/\", 3).str\n",
    "category_oneLevel = a\n",
    "category_twoLevel = a + \"/\" + b\n",
    "category_threeLevel = a + \"/\" + b + \"/\" + c\n",
    "train_df['category_oneLevel'] = category_oneLevel\n",
    "train_df['category_twoLevel'] = category_twoLevel\n",
    "train_df['category_threeLevel'] = category_threeLevel\n",
    "for col in ['category_oneLevel', 'category_twoLevel', 'category_threeLevel']:\n",
    "    train_df[col] = train_df[col].astype('category')"
   ]
  },
  {
   "cell_type": "raw",
   "metadata": {
    "collapsed": true
   },
   "source": []
  },
  {
   "cell_type": "code",
   "execution_count": 30,
   "metadata": {
    "collapsed": false
   },
   "outputs": [
    {
     "name": "stdout",
     "output_type": "stream",
     "text": [
      "Beauty\n",
      "Electronics\n",
      "Handmade\n",
      "Home\n",
      "Kids\n",
      "Men\n",
      "Other\n",
      "Sports & Outdoors\n",
      "Vintage & Collectibles\n",
      "Women\n"
     ]
    }
   ],
   "source": [
    "for i in train_df.category_oneLevel.cat.categories.values:\n",
    "    print(i)"
   ]
  },
  {
   "cell_type": "code",
   "execution_count": 31,
   "metadata": {
    "collapsed": false
   },
   "outputs": [
    {
     "name": "stdout",
     "output_type": "stream",
     "text": [
      "Beauty/Bath & Body\n",
      "Beauty/Fragrance\n",
      "Beauty/Hair Care\n",
      "Beauty/Makeup\n",
      "Beauty/Other\n",
      "Beauty/Skin Care\n",
      "Beauty/Tools & Accessories\n",
      "Electronics/Cameras & Photography\n",
      "Electronics/Car Audio, Video & GPS\n",
      "Electronics/Cell Phones & Accessories\n",
      "Electronics/Computers & Tablets\n",
      "Electronics/Media\n",
      "Electronics/Other\n",
      "Electronics/TV, Audio & Surveillance\n",
      "Electronics/Video Games & Consoles\n",
      "Handmade/Accessories\n",
      "Handmade/Art\n",
      "Handmade/Bags and Purses\n",
      "Handmade/Books and Zines\n",
      "Handmade/Candles\n",
      "Handmade/Ceramics and Pottery\n",
      "Handmade/Children\n",
      "Handmade/Clothing\n",
      "Handmade/Crochet\n",
      "Handmade/Dolls and Miniatures\n",
      "Handmade/Furniture\n",
      "Handmade/Geekery\n",
      "Handmade/Glass\n",
      "Handmade/Holidays\n",
      "Handmade/Housewares\n",
      "Handmade/Jewelry\n",
      "Handmade/Knitting\n",
      "Handmade/Music\n",
      "Handmade/Needlecraft\n",
      "Handmade/Other\n",
      "Handmade/Others\n",
      "Handmade/Paper Goods\n",
      "Handmade/Patterns\n",
      "Handmade/Pets\n",
      "Handmade/Quilts\n",
      "Handmade/Toys\n",
      "Handmade/Weddings\n",
      "Handmade/Woodworking\n",
      "Home/Artwork\n",
      "Home/Bath\n",
      "Home/Bedding\n",
      "Home/Cleaning Supplies\n",
      "Home/Furniture\n",
      "Home/Home Appliances\n",
      "Home/Home Décor\n",
      "Home/Kids' Home Store\n",
      "Home/Kitchen & Dining\n",
      "Home/Other\n",
      "Home/Seasonal Décor\n",
      "Home/Storage & Organization\n",
      "Kids/Bathing & Skin Care\n",
      "Kids/Boys (4+)\n",
      "Kids/Boys 0-24 Mos\n",
      "Kids/Boys 2T-5T\n",
      "Kids/Car Seats & Accessories\n",
      "Kids/Diapering\n",
      "Kids/Feeding\n",
      "Kids/Gear\n",
      "Kids/Girls (4+)\n",
      "Kids/Girls 0-24 Mos\n",
      "Kids/Girls 2T-5T\n",
      "Kids/Health & Baby Care\n",
      "Kids/Nursery\n",
      "Kids/Other\n",
      "Kids/Potty Training\n",
      "Kids/Pregnancy & Maternity\n",
      "Kids/Safety\n",
      "Kids/Strollers\n",
      "Kids/Toys\n",
      "Men/Athletic Apparel\n",
      "Men/Blazers & Sport Coats\n",
      "Men/Coats & Jackets\n",
      "Men/Jeans\n",
      "Men/Men's Accessories\n",
      "Men/Other\n",
      "Men/Pants\n",
      "Men/Shoes\n",
      "Men/Shorts\n",
      "Men/Suits\n",
      "Men/Sweaters\n",
      "Men/Sweats & Hoodies\n",
      "Men/Swimwear\n",
      "Men/Tops\n",
      "Other/Automotive\n",
      "Other/Books\n",
      "Other/Daily & Travel items\n",
      "Other/Magazines\n",
      "Other/Musical instruments\n",
      "Other/Office supplies\n",
      "Other/Other\n",
      "Other/Pet Supplies\n",
      "Sports & Outdoors/Apparel\n",
      "Sports & Outdoors/Exercise\n",
      "Sports & Outdoors/Fan Shop\n",
      "Sports & Outdoors/Footwear\n",
      "Sports & Outdoors/Golf\n",
      "Sports & Outdoors/Other\n",
      "Sports & Outdoors/Outdoors\n",
      "Sports & Outdoors/Team Sports\n",
      "Vintage & Collectibles/Accessories\n",
      "Vintage & Collectibles/Antique\n",
      "Vintage & Collectibles/Bags and Purses\n",
      "Vintage & Collectibles/Book\n",
      "Vintage & Collectibles/Clothing\n",
      "Vintage & Collectibles/Collectibles\n",
      "Vintage & Collectibles/Electronics\n",
      "Vintage & Collectibles/Furniture\n",
      "Vintage & Collectibles/Home Decor\n",
      "Vintage & Collectibles/Housewares\n",
      "Vintage & Collectibles/Jewelry\n",
      "Vintage & Collectibles/Other\n",
      "Vintage & Collectibles/Paper Ephemera\n",
      "Vintage & Collectibles/Serving\n",
      "Vintage & Collectibles/Supplies\n",
      "Vintage & Collectibles/Toy\n",
      "Vintage & Collectibles/Trading Cards\n",
      "Women/Athletic Apparel\n",
      "Women/Coats & Jackets\n",
      "Women/Dresses\n",
      "Women/Jeans\n",
      "Women/Jewelry\n",
      "Women/Maternity\n",
      "Women/Other\n",
      "Women/Pants\n",
      "Women/Shoes\n",
      "Women/Skirts\n",
      "Women/Suits & Blazers\n",
      "Women/Sweaters\n",
      "Women/Swimwear\n",
      "Women/Tops & Blouses\n",
      "Women/Underwear\n",
      "Women/Women's Accessories\n",
      "Women/Women's Handbags\n"
     ]
    }
   ],
   "source": [
    "for i in train_df.category_twoLevel.cat.categories.values:\n",
    "    print(i)"
   ]
  },
  {
   "cell_type": "code",
   "execution_count": 32,
   "metadata": {
    "collapsed": false
   },
   "outputs": [],
   "source": [
    "# Create column for (adult) clothing type that does not distinguish gender - You will probably just have NaN's for all the items that are not clothing"
   ]
  },
  {
   "cell_type": "code",
   "execution_count": null,
   "metadata": {
    "collapsed": true
   },
   "outputs": [],
   "source": []
  }
 ],
 "metadata": {
  "kernelspec": {
   "display_name": "Python 3",
   "language": "python",
   "name": "python3"
  },
  "language_info": {
   "codemirror_mode": {
    "name": "ipython",
    "version": 3
   },
   "file_extension": ".py",
   "mimetype": "text/x-python",
   "name": "python",
   "nbconvert_exporter": "python",
   "pygments_lexer": "ipython3",
   "version": "3.6.0"
  }
 },
 "nbformat": 4,
 "nbformat_minor": 2
}
