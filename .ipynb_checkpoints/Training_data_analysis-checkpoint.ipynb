{
 "cells": [
  {
   "cell_type": "code",
   "execution_count": 2,
   "metadata": {
    "collapsed": false
   },
   "outputs": [
    {
     "name": "stdout",
     "output_type": "stream",
     "text": [
      "0.22.0\n"
     ]
    }
   ],
   "source": [
    "import pandas as pd\n",
    "import numpy as np\n",
    "import matplotlib.pyplot as plt\n",
    "from pandas.api.types import CategoricalDtype\n",
    "\n",
    "print(pd.__version__)\n",
    "\n",
    "%matplotlib inline"
   ]
  },
  {
   "cell_type": "code",
   "execution_count": 8,
   "metadata": {
    "collapsed": false
   },
   "outputs": [
    {
     "name": "stderr",
     "output_type": "stream",
     "text": [
      "/Users/Abe/anaconda3/lib/python3.6/site-packages/numpy/lib/arraysetops.py:466: FutureWarning: elementwise comparison failed; returning scalar instead, but in the future will perform elementwise comparison\n",
      "  mask |= (ar1 == a)\n"
     ]
    }
   ],
   "source": [
    "train_df = pd.read_table(\"./train.tsv\", index_col = 'train_id', dtype = {'item_condition_id' : CategoricalDtype(categories = [str(i) for i in range(1,6)]), 'category_name':'category', 'shipping':'category'})"
   ]
  },
  {
   "cell_type": "code",
   "execution_count": 11,
   "metadata": {
    "collapsed": false
   },
   "outputs": [
    {
     "data": {
      "text/plain": [
       "name                   object\n",
       "item_condition_id    category\n",
       "category_name          object\n",
       "brand_name             object\n",
       "price                 float64\n",
       "shipping                int64\n",
       "item_description       object\n",
       "dtype: object"
      ]
     },
     "execution_count": 11,
     "metadata": {},
     "output_type": "execute_result"
    }
   ],
   "source": [
    "train_df.dtypes"
   ]
  },
  {
   "cell_type": "code",
   "execution_count": 8,
   "metadata": {
    "collapsed": false
   },
   "outputs": [
    {
     "data": {
      "text/html": [
       "<div>\n",
       "<table border=\"1\" class=\"dataframe\">\n",
       "  <thead>\n",
       "    <tr style=\"text-align: right;\">\n",
       "      <th></th>\n",
       "      <th>name</th>\n",
       "      <th>item_condition_id</th>\n",
       "      <th>category_name</th>\n",
       "      <th>brand_name</th>\n",
       "      <th>price</th>\n",
       "      <th>shipping</th>\n",
       "      <th>item_description</th>\n",
       "    </tr>\n",
       "    <tr>\n",
       "      <th>train_id</th>\n",
       "      <th></th>\n",
       "      <th></th>\n",
       "      <th></th>\n",
       "      <th></th>\n",
       "      <th></th>\n",
       "      <th></th>\n",
       "      <th></th>\n",
       "    </tr>\n",
       "  </thead>\n",
       "  <tbody>\n",
       "    <tr>\n",
       "      <th>0</th>\n",
       "      <td>MLB Cincinnati Reds T Shirt Size XL</td>\n",
       "      <td>3</td>\n",
       "      <td>Men/Tops/T-shirts</td>\n",
       "      <td>NaN</td>\n",
       "      <td>10.0</td>\n",
       "      <td>1</td>\n",
       "      <td>No description yet</td>\n",
       "    </tr>\n",
       "    <tr>\n",
       "      <th>1</th>\n",
       "      <td>Razer BlackWidow Chroma Keyboard</td>\n",
       "      <td>3</td>\n",
       "      <td>Electronics/Computers &amp; Tablets/Components &amp; P...</td>\n",
       "      <td>Razer</td>\n",
       "      <td>52.0</td>\n",
       "      <td>0</td>\n",
       "      <td>This keyboard is in great condition and works ...</td>\n",
       "    </tr>\n",
       "    <tr>\n",
       "      <th>2</th>\n",
       "      <td>AVA-VIV Blouse</td>\n",
       "      <td>1</td>\n",
       "      <td>Women/Tops &amp; Blouses/Blouse</td>\n",
       "      <td>Target</td>\n",
       "      <td>10.0</td>\n",
       "      <td>1</td>\n",
       "      <td>Adorable top with a hint of lace and a key hol...</td>\n",
       "    </tr>\n",
       "    <tr>\n",
       "      <th>3</th>\n",
       "      <td>Leather Horse Statues</td>\n",
       "      <td>1</td>\n",
       "      <td>Home/Home Décor/Home Décor Accents</td>\n",
       "      <td>NaN</td>\n",
       "      <td>35.0</td>\n",
       "      <td>1</td>\n",
       "      <td>New with tags. Leather horses. Retail for [rm]...</td>\n",
       "    </tr>\n",
       "    <tr>\n",
       "      <th>4</th>\n",
       "      <td>24K GOLD plated rose</td>\n",
       "      <td>1</td>\n",
       "      <td>Women/Jewelry/Necklaces</td>\n",
       "      <td>NaN</td>\n",
       "      <td>44.0</td>\n",
       "      <td>0</td>\n",
       "      <td>Complete with certificate of authenticity</td>\n",
       "    </tr>\n",
       "    <tr>\n",
       "      <th>5</th>\n",
       "      <td>Bundled items requested for Ruie</td>\n",
       "      <td>3</td>\n",
       "      <td>Women/Other/Other</td>\n",
       "      <td>NaN</td>\n",
       "      <td>59.0</td>\n",
       "      <td>0</td>\n",
       "      <td>Banana republic bottoms, Candies skirt with ma...</td>\n",
       "    </tr>\n",
       "    <tr>\n",
       "      <th>6</th>\n",
       "      <td>Acacia pacific tides santorini top</td>\n",
       "      <td>3</td>\n",
       "      <td>Women/Swimwear/Two-Piece</td>\n",
       "      <td>Acacia Swimwear</td>\n",
       "      <td>64.0</td>\n",
       "      <td>0</td>\n",
       "      <td>Size small but straps slightly shortened to fi...</td>\n",
       "    </tr>\n",
       "    <tr>\n",
       "      <th>7</th>\n",
       "      <td>Girls cheer and tumbling bundle of 7</td>\n",
       "      <td>3</td>\n",
       "      <td>Sports &amp; Outdoors/Apparel/Girls</td>\n",
       "      <td>Soffe</td>\n",
       "      <td>6.0</td>\n",
       "      <td>1</td>\n",
       "      <td>You get three pairs of Sophie cheer shorts siz...</td>\n",
       "    </tr>\n",
       "    <tr>\n",
       "      <th>8</th>\n",
       "      <td>Girls Nike Pro shorts</td>\n",
       "      <td>3</td>\n",
       "      <td>Sports &amp; Outdoors/Apparel/Girls</td>\n",
       "      <td>Nike</td>\n",
       "      <td>19.0</td>\n",
       "      <td>0</td>\n",
       "      <td>Girls Size small Plus green. Three shorts total.</td>\n",
       "    </tr>\n",
       "    <tr>\n",
       "      <th>9</th>\n",
       "      <td>Porcelain clown doll checker pants VTG</td>\n",
       "      <td>3</td>\n",
       "      <td>Vintage &amp; Collectibles/Collectibles/Doll</td>\n",
       "      <td>NaN</td>\n",
       "      <td>8.0</td>\n",
       "      <td>0</td>\n",
       "      <td>I realized his pants are on backwards after th...</td>\n",
       "    </tr>\n",
       "  </tbody>\n",
       "</table>\n",
       "</div>"
      ],
      "text/plain": [
       "                                            name  item_condition_id  \\\n",
       "train_id                                                              \n",
       "0            MLB Cincinnati Reds T Shirt Size XL                  3   \n",
       "1               Razer BlackWidow Chroma Keyboard                  3   \n",
       "2                                 AVA-VIV Blouse                  1   \n",
       "3                          Leather Horse Statues                  1   \n",
       "4                           24K GOLD plated rose                  1   \n",
       "5               Bundled items requested for Ruie                  3   \n",
       "6             Acacia pacific tides santorini top                  3   \n",
       "7           Girls cheer and tumbling bundle of 7                  3   \n",
       "8                          Girls Nike Pro shorts                  3   \n",
       "9         Porcelain clown doll checker pants VTG                  3   \n",
       "\n",
       "                                              category_name       brand_name  \\\n",
       "train_id                                                                       \n",
       "0                                         Men/Tops/T-shirts              NaN   \n",
       "1         Electronics/Computers & Tablets/Components & P...            Razer   \n",
       "2                               Women/Tops & Blouses/Blouse           Target   \n",
       "3                        Home/Home Décor/Home Décor Accents              NaN   \n",
       "4                                   Women/Jewelry/Necklaces              NaN   \n",
       "5                                         Women/Other/Other              NaN   \n",
       "6                                  Women/Swimwear/Two-Piece  Acacia Swimwear   \n",
       "7                           Sports & Outdoors/Apparel/Girls            Soffe   \n",
       "8                           Sports & Outdoors/Apparel/Girls             Nike   \n",
       "9                  Vintage & Collectibles/Collectibles/Doll              NaN   \n",
       "\n",
       "          price  shipping                                   item_description  \n",
       "train_id                                                                      \n",
       "0          10.0         1                                 No description yet  \n",
       "1          52.0         0  This keyboard is in great condition and works ...  \n",
       "2          10.0         1  Adorable top with a hint of lace and a key hol...  \n",
       "3          35.0         1  New with tags. Leather horses. Retail for [rm]...  \n",
       "4          44.0         0          Complete with certificate of authenticity  \n",
       "5          59.0         0  Banana republic bottoms, Candies skirt with ma...  \n",
       "6          64.0         0  Size small but straps slightly shortened to fi...  \n",
       "7           6.0         1  You get three pairs of Sophie cheer shorts siz...  \n",
       "8          19.0         0   Girls Size small Plus green. Three shorts total.  \n",
       "9           8.0         0  I realized his pants are on backwards after th...  "
      ]
     },
     "execution_count": 8,
     "metadata": {},
     "output_type": "execute_result"
    }
   ],
   "source": [
    "train_df[0:10]"
   ]
  },
  {
   "cell_type": "code",
   "execution_count": null,
   "metadata": {
    "collapsed": true
   },
   "outputs": [],
   "source": []
  }
 ],
 "metadata": {
  "kernelspec": {
   "display_name": "Python 3",
   "language": "python",
   "name": "python3"
  },
  "language_info": {
   "codemirror_mode": {
    "name": "ipython",
    "version": 3
   },
   "file_extension": ".py",
   "mimetype": "text/x-python",
   "name": "python",
   "nbconvert_exporter": "python",
   "pygments_lexer": "ipython3",
   "version": "3.6.0"
  }
 },
 "nbformat": 4,
 "nbformat_minor": 2
}
