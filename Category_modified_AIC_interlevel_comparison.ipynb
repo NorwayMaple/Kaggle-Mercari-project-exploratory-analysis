{
 "cells": [
  {
   "cell_type": "code",
   "execution_count": 1,
   "metadata": {
    "collapsed": false
   },
   "outputs": [
    {
     "name": "stdout",
     "output_type": "stream",
     "text": [
      "0.22.0\n"
     ]
    }
   ],
   "source": [
    "import pandas as pd\n",
    "import numpy as np\n",
    "import matplotlib.pyplot as plt\n",
    "from pandas.api.types import CategoricalDtype\n",
    "\n",
    "print(pd.__version__)\n",
    "\n",
    "%matplotlib inline"
   ]
  },
  {
   "cell_type": "code",
   "execution_count": 2,
   "metadata": {
    "collapsed": false
   },
   "outputs": [
    {
     "name": "stderr",
     "output_type": "stream",
     "text": [
      "/Users/Abe/anaconda3/lib/python3.6/site-packages/numpy/lib/arraysetops.py:466: FutureWarning: elementwise comparison failed; returning scalar instead, but in the future will perform elementwise comparison\n",
      "  mask |= (ar1 == a)\n"
     ]
    }
   ],
   "source": [
    "# Read table\n",
    "\n",
    "mercari_data = pd.read_table(\"./train.tsv\", index_col = 'train_id', dtype = {'item_condition_id':CategoricalDtype(categories = [str(i) for i in range(1,6)], ordered = True), 'category_name':'category', 'brand_name': 'category', 'shipping':'category'})"
   ]
  },
  {
   "cell_type": "code",
   "execution_count": 3,
   "metadata": {
    "collapsed": false
   },
   "outputs": [],
   "source": [
    "cat1, cat2, cat3, a = mercari_data.category_name.str.split(\"/\", 3).str\n",
    "mercari_data['category_1'] = cat1\n",
    "mercari_data['category_2'] = cat2\n",
    "mercari_data['category_3'] = cat3\n",
    "for col in ['category_1', 'category_2', 'category_3']:\n",
    "    mercari_data[col] = mercari_data[col].astype('category')"
   ]
  },
  {
   "cell_type": "code",
   "execution_count": 4,
   "metadata": {
    "collapsed": true
   },
   "outputs": [],
   "source": [
    "mercari_data['log_price'] = np.log(mercari_data.price + 1)"
   ]
  },
  {
   "cell_type": "code",
   "execution_count": 24,
   "metadata": {
    "collapsed": false
   },
   "outputs": [
    {
     "name": "stdout",
     "output_type": "stream",
     "text": [
      "3891.3834929348423\n",
      "2.9862535475404206\n",
      "3.7427124054842973\n",
      "RSS orig: 6166.569987891458\n",
      "RSS new: 3891.3834929348423\n",
      "Count: 3976\n",
      "ln: 0.46038413546154205\n",
      "n*...: 1830.4873225950912\n"
     ]
    }
   ],
   "source": [
    "# The goal here is to use comparisons of RSS for different category levels in linear models, balanced with\n",
    "# the increase in k the number of levels of categoried used.\n",
    "# The comparisons are based on AIC comparisons and used to determine the optimal number of levels to include\n",
    "# in the model, but separately for each subcategory\n",
    "# The goal is to come up with a linear equation that takes a different number of levels into account for each\n",
    "# subcategory to avoid overfitting\n",
    "\n",
    "# The model with more predictors is used for a subcategory if and only if\n",
    "# 2+(n*(ln(RSS(i+1)/RSS(i)))) < 0\n",
    "# where RSS(i+1) is the residual sum of squares for the model with one more predictor, and RSS(i)\n",
    "# is the residual sum of squares for the original model\n",
    "\n",
    "# Testing on a common subcategory, where we decide whether to include \"Electronics/Cameras & Photography\"\n",
    "\n",
    "data_subset = mercari_data[(mercari_data['category_1'] == 'Electronics') & (mercari_data['category_2'] == 'Cameras & Photography')]\n",
    "\n",
    "def rss(sampled, predicted): # Sampled is a series (i.e. a sample), and predicted is a numeric scalar\n",
    "    return ((sampled - predicted)**2).sum()\n",
    "\n",
    "print(rss(data_subset['log_price'], data_subset['log_price'].mean()))\n",
    "\n",
    "supercategory_mean = mercari_data[mercari_data['category_1'] == 'Electronics'].log_price.mean()\n",
    "print(supercategory_mean)\n",
    "print(data_subset['log_price'].mean())\n",
    "print('RSS orig: ' + str(rss(data_subset['log_price'], supercategory_mean)))\n",
    "print('RSS new: ' + str(rss(data_subset['log_price'], data_subset['log_price'].mean())))\n",
    "print('Count: ' + str(data_subset.log_price.count()))\n",
    "print('ln: ' + str(np.log(6166/3891)))\n",
    "print('n*...: ' + str(3976*np.log(6166/3891)))"
   ]
  },
  {
   "cell_type": "code",
   "execution_count": null,
   "metadata": {
    "collapsed": true
   },
   "outputs": [],
   "source": []
  }
 ],
 "metadata": {
  "kernelspec": {
   "display_name": "Python 3",
   "language": "python",
   "name": "python3"
  },
  "language_info": {
   "codemirror_mode": {
    "name": "ipython",
    "version": 3
   },
   "file_extension": ".py",
   "mimetype": "text/x-python",
   "name": "python",
   "nbconvert_exporter": "python",
   "pygments_lexer": "ipython3",
   "version": "3.6.2"
  }
 },
 "nbformat": 4,
 "nbformat_minor": 2
}
