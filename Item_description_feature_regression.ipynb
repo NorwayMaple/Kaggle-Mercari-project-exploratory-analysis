{
 "cells": [
  {
   "cell_type": "code",
   "execution_count": 2,
   "metadata": {
    "collapsed": false
   },
   "outputs": [
    {
     "name": "stdout",
     "output_type": "stream",
     "text": [
      "0.22.0\n"
     ]
    }
   ],
   "source": [
    "import pandas as pd\n",
    "import numpy as np\n",
    "import matplotlib.pyplot as plt\n",
    "from pandas.api.types import CategoricalDtype\n",
    "from sklearn.feature_extraction.text import CountVectorizer\n",
    "from sklearn.linear_model import Ridge\n",
    "\n",
    "print(pd.__version__)\n",
    "\n",
    "%matplotlib inline"
   ]
  },
  {
   "cell_type": "code",
   "execution_count": 3,
   "metadata": {
    "collapsed": false
   },
   "outputs": [
    {
     "name": "stderr",
     "output_type": "stream",
     "text": [
      "/Users/Abe/anaconda3/lib/python3.6/site-packages/numpy/lib/arraysetops.py:466: FutureWarning: elementwise comparison failed; returning scalar instead, but in the future will perform elementwise comparison\n",
      "  mask |= (ar1 == a)\n"
     ]
    }
   ],
   "source": [
    "# Read table\n",
    "\n",
    "mercari_data = pd.read_table(\"./train.tsv\", index_col = 'train_id', dtype = {'item_condition_id':CategoricalDtype(categories = [str(i) for i in range(1,6)], ordered = True), 'category_name':'category', 'brand_name': 'category', 'shipping':'category'})"
   ]
  },
  {
   "cell_type": "code",
   "execution_count": 4,
   "metadata": {
    "collapsed": false
   },
   "outputs": [],
   "source": [
    "cat1, cat2, cat3, a = mercari_data.category_name.str.split(\"/\", 3).str\n",
    "mercari_data['category_1'] = cat1\n",
    "mercari_data['category_2'] = cat2\n",
    "mercari_data['category_3'] = cat3\n",
    "for col in ['category_1', 'category_2', 'category_3']:\n",
    "    mercari_data[col] = mercari_data[col].astype('category')"
   ]
  },
  {
   "cell_type": "code",
   "execution_count": 5,
   "metadata": {
    "collapsed": true
   },
   "outputs": [],
   "source": [
    "mercari_data['log_price'] = np.log(mercari_data.price + 1)"
   ]
  },
  {
   "cell_type": "code",
   "execution_count": 18,
   "metadata": {
    "collapsed": false
   },
   "outputs": [
    {
     "data": {
      "text/html": [
       "<div>\n",
       "<style scoped>\n",
       "    .dataframe tbody tr th:only-of-type {\n",
       "        vertical-align: middle;\n",
       "    }\n",
       "\n",
       "    .dataframe tbody tr th {\n",
       "        vertical-align: top;\n",
       "    }\n",
       "\n",
       "    .dataframe thead th {\n",
       "        text-align: right;\n",
       "    }\n",
       "</style>\n",
       "<table border=\"1\" class=\"dataframe\">\n",
       "  <thead>\n",
       "    <tr style=\"text-align: right;\">\n",
       "      <th></th>\n",
       "      <th>name</th>\n",
       "      <th>item_condition_id</th>\n",
       "      <th>category_name</th>\n",
       "      <th>brand_name</th>\n",
       "      <th>price</th>\n",
       "      <th>shipping</th>\n",
       "      <th>item_description</th>\n",
       "      <th>category_1</th>\n",
       "      <th>category_2</th>\n",
       "      <th>category_3</th>\n",
       "      <th>log_price</th>\n",
       "    </tr>\n",
       "    <tr>\n",
       "      <th>train_id</th>\n",
       "      <th></th>\n",
       "      <th></th>\n",
       "      <th></th>\n",
       "      <th></th>\n",
       "      <th></th>\n",
       "      <th></th>\n",
       "      <th></th>\n",
       "      <th></th>\n",
       "      <th></th>\n",
       "      <th></th>\n",
       "      <th></th>\n",
       "    </tr>\n",
       "  </thead>\n",
       "  <tbody>\n",
       "    <tr>\n",
       "      <th>0</th>\n",
       "      <td>MLB Cincinnati Reds T Shirt Size XL</td>\n",
       "      <td>3</td>\n",
       "      <td>Men/Tops/T-shirts</td>\n",
       "      <td>NaN</td>\n",
       "      <td>10.0</td>\n",
       "      <td>1</td>\n",
       "      <td>No description yet</td>\n",
       "      <td>Men</td>\n",
       "      <td>Tops</td>\n",
       "      <td>T-shirts</td>\n",
       "      <td>2.397895</td>\n",
       "    </tr>\n",
       "    <tr>\n",
       "      <th>78</th>\n",
       "      <td>Trump Shirt</td>\n",
       "      <td>3</td>\n",
       "      <td>Men/Tops/T-shirts</td>\n",
       "      <td>NaN</td>\n",
       "      <td>9.0</td>\n",
       "      <td>0</td>\n",
       "      <td>Worn once; will be washed before sent</td>\n",
       "      <td>Men</td>\n",
       "      <td>Tops</td>\n",
       "      <td>T-shirts</td>\n",
       "      <td>2.302585</td>\n",
       "    </tr>\n",
       "    <tr>\n",
       "      <th>151</th>\n",
       "      <td>Nike men's dri-fit sleeveless shirt tee</td>\n",
       "      <td>3</td>\n",
       "      <td>Men/Tops/T-shirts</td>\n",
       "      <td>Nike</td>\n",
       "      <td>14.0</td>\n",
       "      <td>0</td>\n",
       "      <td>This is a men's Nike dri-fit shirt which is bl...</td>\n",
       "      <td>Men</td>\n",
       "      <td>Tops</td>\n",
       "      <td>T-shirts</td>\n",
       "      <td>2.708050</td>\n",
       "    </tr>\n",
       "    <tr>\n",
       "      <th>350</th>\n",
       "      <td>Stussy vintage dot Ragland LARGE</td>\n",
       "      <td>1</td>\n",
       "      <td>Men/Tops/T-shirts</td>\n",
       "      <td>NaN</td>\n",
       "      <td>33.0</td>\n",
       "      <td>0</td>\n",
       "      <td>Brand new with tags white/burgundy</td>\n",
       "      <td>Men</td>\n",
       "      <td>Tops</td>\n",
       "      <td>T-shirts</td>\n",
       "      <td>3.526361</td>\n",
       "    </tr>\n",
       "    <tr>\n",
       "      <th>352</th>\n",
       "      <td>2-Mens XXL Cruise Ship T-Shirts NWOT</td>\n",
       "      <td>2</td>\n",
       "      <td>Men/Tops/T-shirts</td>\n",
       "      <td>NaN</td>\n",
       "      <td>9.0</td>\n",
       "      <td>0</td>\n",
       "      <td>2-Mens XXL Cruise Ship T-Shirts. Grey-Royal Ca...</td>\n",
       "      <td>Men</td>\n",
       "      <td>Tops</td>\n",
       "      <td>T-shirts</td>\n",
       "      <td>2.302585</td>\n",
       "    </tr>\n",
       "    <tr>\n",
       "      <th>432</th>\n",
       "      <td>'Garbage\" tee</td>\n",
       "      <td>3</td>\n",
       "      <td>Men/Tops/T-shirts</td>\n",
       "      <td>NaN</td>\n",
       "      <td>7.0</td>\n",
       "      <td>1</td>\n",
       "      <td>A black tee with white screen print g and garb...</td>\n",
       "      <td>Men</td>\n",
       "      <td>Tops</td>\n",
       "      <td>T-shirts</td>\n",
       "      <td>2.079442</td>\n",
       "    </tr>\n",
       "    <tr>\n",
       "      <th>497</th>\n",
       "      <td>Nintendo 64 Men's T shirt Size 2XL</td>\n",
       "      <td>1</td>\n",
       "      <td>Men/Tops/T-shirts</td>\n",
       "      <td>Nintendo</td>\n",
       "      <td>15.0</td>\n",
       "      <td>1</td>\n",
       "      <td>New t shirt Official Licensed Product Size 2XL</td>\n",
       "      <td>Men</td>\n",
       "      <td>Tops</td>\n",
       "      <td>T-shirts</td>\n",
       "      <td>2.772589</td>\n",
       "    </tr>\n",
       "    <tr>\n",
       "      <th>660</th>\n",
       "      <td>Undefeated T-Shirt</td>\n",
       "      <td>2</td>\n",
       "      <td>Men/Tops/T-shirts</td>\n",
       "      <td>Undefeated</td>\n",
       "      <td>19.0</td>\n",
       "      <td>0</td>\n",
       "      <td>Like new condition Quality material Staple piece</td>\n",
       "      <td>Men</td>\n",
       "      <td>Tops</td>\n",
       "      <td>T-shirts</td>\n",
       "      <td>2.995732</td>\n",
       "    </tr>\n",
       "    <tr>\n",
       "      <th>1357</th>\n",
       "      <td>Huf Shirt</td>\n",
       "      <td>2</td>\n",
       "      <td>Men/Tops/T-shirts</td>\n",
       "      <td>HUF</td>\n",
       "      <td>22.0</td>\n",
       "      <td>0</td>\n",
       "      <td>Basically brand new. No wear or tear, great co...</td>\n",
       "      <td>Men</td>\n",
       "      <td>Tops</td>\n",
       "      <td>T-shirts</td>\n",
       "      <td>3.135494</td>\n",
       "    </tr>\n",
       "    <tr>\n",
       "      <th>1408</th>\n",
       "      <td>Men's Nike shirt</td>\n",
       "      <td>3</td>\n",
       "      <td>Men/Tops/T-shirts</td>\n",
       "      <td>Nike</td>\n",
       "      <td>34.0</td>\n",
       "      <td>0</td>\n",
       "      <td>Men's Nike shirt. Black . Used once, can barel...</td>\n",
       "      <td>Men</td>\n",
       "      <td>Tops</td>\n",
       "      <td>T-shirts</td>\n",
       "      <td>3.555348</td>\n",
       "    </tr>\n",
       "  </tbody>\n",
       "</table>\n",
       "</div>"
      ],
      "text/plain": [
       "                                             name item_condition_id  \\\n",
       "train_id                                                              \n",
       "0             MLB Cincinnati Reds T Shirt Size XL                 3   \n",
       "78                                    Trump Shirt                 3   \n",
       "151       Nike men's dri-fit sleeveless shirt tee                 3   \n",
       "350              Stussy vintage dot Ragland LARGE                 1   \n",
       "352          2-Mens XXL Cruise Ship T-Shirts NWOT                 2   \n",
       "432                                 'Garbage\" tee                 3   \n",
       "497            Nintendo 64 Men's T shirt Size 2XL                 1   \n",
       "660                            Undefeated T-Shirt                 2   \n",
       "1357                                    Huf Shirt                 2   \n",
       "1408                             Men's Nike shirt                 3   \n",
       "\n",
       "              category_name  brand_name  price shipping  \\\n",
       "train_id                                                  \n",
       "0         Men/Tops/T-shirts         NaN   10.0        1   \n",
       "78        Men/Tops/T-shirts         NaN    9.0        0   \n",
       "151       Men/Tops/T-shirts        Nike   14.0        0   \n",
       "350       Men/Tops/T-shirts         NaN   33.0        0   \n",
       "352       Men/Tops/T-shirts         NaN    9.0        0   \n",
       "432       Men/Tops/T-shirts         NaN    7.0        1   \n",
       "497       Men/Tops/T-shirts    Nintendo   15.0        1   \n",
       "660       Men/Tops/T-shirts  Undefeated   19.0        0   \n",
       "1357      Men/Tops/T-shirts         HUF   22.0        0   \n",
       "1408      Men/Tops/T-shirts        Nike   34.0        0   \n",
       "\n",
       "                                           item_description category_1  \\\n",
       "train_id                                                                 \n",
       "0                                        No description yet        Men   \n",
       "78                    Worn once; will be washed before sent        Men   \n",
       "151       This is a men's Nike dri-fit shirt which is bl...        Men   \n",
       "350                      Brand new with tags white/burgundy        Men   \n",
       "352       2-Mens XXL Cruise Ship T-Shirts. Grey-Royal Ca...        Men   \n",
       "432       A black tee with white screen print g and garb...        Men   \n",
       "497          New t shirt Official Licensed Product Size 2XL        Men   \n",
       "660        Like new condition Quality material Staple piece        Men   \n",
       "1357      Basically brand new. No wear or tear, great co...        Men   \n",
       "1408      Men's Nike shirt. Black . Used once, can barel...        Men   \n",
       "\n",
       "         category_2 category_3  log_price  \n",
       "train_id                                   \n",
       "0              Tops   T-shirts   2.397895  \n",
       "78             Tops   T-shirts   2.302585  \n",
       "151            Tops   T-shirts   2.708050  \n",
       "350            Tops   T-shirts   3.526361  \n",
       "352            Tops   T-shirts   2.302585  \n",
       "432            Tops   T-shirts   2.079442  \n",
       "497            Tops   T-shirts   2.772589  \n",
       "660            Tops   T-shirts   2.995732  \n",
       "1357           Tops   T-shirts   3.135494  \n",
       "1408           Tops   T-shirts   3.555348  "
      ]
     },
     "execution_count": 18,
     "metadata": {},
     "output_type": "execute_result"
    }
   ],
   "source": [
    "mercari_data[(mercari_data['category_1'] == 'Men') & (mercari_data['category_2'] == 'Tops') & (mercari_data['category_3'] == 'T-shirts')].head(10)"
   ]
  },
  {
   "cell_type": "code",
   "execution_count": 23,
   "metadata": {
    "collapsed": false
   },
   "outputs": [
    {
     "name": "stdout",
     "output_type": "stream",
     "text": [
      "15108\n",
      "13851\n"
     ]
    }
   ],
   "source": [
    "data_subset = mercari_data[(mercari_data['category_1'] == 'Men') & (mercari_data['category_2'] == 'Tops') & (mercari_data['category_3'] == 'T-shirts')]\n",
    "print(data_subset['item_description'].count())\n",
    "\n",
    "data_subset = data_subset[data_subset['item_description'] != 'No description yet']\n",
    "print(data_subset['item_description'].count())"
   ]
  },
  {
   "cell_type": "code",
   "execution_count": 20,
   "metadata": {
    "collapsed": true
   },
   "outputs": [],
   "source": []
  },
  {
   "cell_type": "code",
   "execution_count": 55,
   "metadata": {
    "collapsed": false
   },
   "outputs": [],
   "source": [
    "# Credit for some of this goes to Mike D.\n",
    "vectorizer = CountVectorizer(stop_words=\"english\", binary = True)\n",
    "transformed = vectorizer.fit_transform(data_subset['item_description'])\n",
    "sparse_sums = transformed.sum(axis = 0)\n",
    "feature_names = vectorizer.get_feature_names()\n",
    "sorted_word_counts = sorted(zip(feature_names, sparse_sums.tolist()[0]), key = lambda x: x[1], reverse = True)\n"
   ]
  },
  {
   "cell_type": "code",
   "execution_count": 57,
   "metadata": {
    "collapsed": false
   },
   "outputs": [],
   "source": [
    "# Do try experimenting with alpha.  Keep the variance and bias within reason\n",
    "reg = Ridge(alpha=.1)\n",
    "\n",
    "# Now it's time to decide which featuresd (words) you want to look at.\n",
    "# Don't choose words like stop-words, which are really common (but appear not to be\n",
    "# in your vocaubulary anyway since you took them out in the default\n",
    "# preprocessor) but also don't choose words that don't appear much\n",
    "\n",
    "# If and after you've set a minimum threshold, use some module from\n",
    "# sklearn.feature_selection, like sklearn.feature_selection.mutual_info_regression\n",
    "# to decide which words actually matter.  The reason you're ultimately putting this into\n",
    "# a ridge regression is because some words could be very crosscorrelated, \n",
    "# resulting in a high-variance model\n",
    "\n",
    "# the sklearn website has a good example on the feature_selection tools\n",
    "# and compares the results of one to SVM weights"
   ]
  },
  {
   "cell_type": "code",
   "execution_count": null,
   "metadata": {
    "collapsed": true
   },
   "outputs": [],
   "source": []
  }
 ],
 "metadata": {
  "kernelspec": {
   "display_name": "Python 3",
   "language": "python",
   "name": "python3"
  },
  "language_info": {
   "codemirror_mode": {
    "name": "ipython",
    "version": 3
   },
   "file_extension": ".py",
   "mimetype": "text/x-python",
   "name": "python",
   "nbconvert_exporter": "python",
   "pygments_lexer": "ipython3",
   "version": "3.6.2"
  }
 },
 "nbformat": 4,
 "nbformat_minor": 2
}
